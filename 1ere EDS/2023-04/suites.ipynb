{
 "cells": [
  {
   "cell_type": "markdown",
   "id": "dd683efe",
   "metadata": {},
   "source": [
    "# Python : premiers pas\n",
    "\n",
    "  Prévoir le comprortement des cellules suivantes :"
   ]
  },
  {
   "cell_type": "code",
   "execution_count": 1,
   "id": "6487756b",
   "metadata": {},
   "outputs": [
    {
     "name": "stdout",
     "output_type": "stream",
     "text": [
      "7\n"
     ]
    }
   ],
   "source": [
    "a = 5\n",
    "a = a + 2\n",
    "print(a)"
   ]
  },
  {
   "cell_type": "code",
   "execution_count": 2,
   "id": "bf5546e0",
   "metadata": {},
   "outputs": [
    {
     "name": "stdout",
     "output_type": "stream",
     "text": [
      "0\n",
      "1\n",
      "2\n",
      "3\n",
      "4\n"
     ]
    }
   ],
   "source": [
    "for i in range(5) :\n",
    "    print(i)"
   ]
  },
  {
   "cell_type": "code",
   "execution_count": 6,
   "id": "cd090c9b",
   "metadata": {},
   "outputs": [
    {
     "name": "stdout",
     "output_type": "stream",
     "text": [
      "128\n"
     ]
    }
   ],
   "source": [
    "s = 1\n",
    "while s < 100 :\n",
    "    s *= 2\n",
    "print(s)"
   ]
  },
  {
   "cell_type": "markdown",
   "id": "6dd6b1a1",
   "metadata": {},
   "source": [
    "### À vous \n",
    "Competer le code suivant pour afficher les 4 premiers termes d'une suite géométrique de raison 3 et de premier terme 5"
   ]
  },
  {
   "cell_type": "code",
   "execution_count": 9,
   "id": "e4b411e3",
   "metadata": {},
   "outputs": [
    {
     "name": "stdout",
     "output_type": "stream",
     "text": [
      "5\n",
      "15\n",
      "45\n",
      "135\n",
      "405\n"
     ]
    }
   ],
   "source": [
    "u = 5\n",
    "for i in range(4):\n",
    "    print(u)\n",
    "    u *= 3\n",
    "print(u)"
   ]
  },
  {
   "cell_type": "markdown",
   "id": "f70cad51",
   "metadata": {},
   "source": [
    "# Python : une fonction\n",
    "prévoir le comprtement des cellules suivantes\n"
   ]
  },
  {
   "cell_type": "code",
   "execution_count": 10,
   "id": "88091c23",
   "metadata": {},
   "outputs": [
    {
     "name": "stdout",
     "output_type": "stream",
     "text": [
      "9\n"
     ]
    }
   ],
   "source": [
    "def f(x):\n",
    "    return 2*x+1\n",
    "\n",
    "y = f(4)  # 9\n",
    "print(y)"
   ]
  },
  {
   "cell_type": "code",
   "execution_count": 11,
   "id": "52c4a2ff",
   "metadata": {},
   "outputs": [
    {
     "name": "stdout",
     "output_type": "stream",
     "text": [
      "2\n",
      "4\n",
      "6\n",
      "8\n"
     ]
    }
   ],
   "source": [
    "def toto(a, b):\n",
    "    y = 2*a + b\n",
    "    return y\n",
    "\n",
    "for i in range(4):\n",
    "    print(toto(i, 2))\n",
    "\n",
    "# 0, 1, 2, 3\n",
    "# 2, 4, 6, 8"
   ]
  },
  {
   "cell_type": "markdown",
   "id": "dc7e82a7",
   "metadata": {},
   "source": [
    "# Premières suites\n",
    "\n",
    "Avec les méthodes re-découverte ci-dessus, compléter le programme qui calcule la somme des 10 premiers termes de la suite $u_n=2n+4$"
   ]
  },
  {
   "cell_type": "code",
   "execution_count": 12,
   "id": "ed8ad7c3",
   "metadata": {},
   "outputs": [
    {
     "name": "stdout",
     "output_type": "stream",
     "text": [
      "130\n"
     ]
    }
   ],
   "source": [
    "def u(n):\n",
    "    return 2*n + 4\n",
    "\n",
    "somme = 0\n",
    "for i in range(10) :\n",
    "    somme += u(i)\n",
    "print(somme)"
   ]
  },
  {
   "cell_type": "markdown",
   "id": "a64f47cb",
   "metadata": {},
   "source": [
    "### À vous \n",
    "Reprendre le programme pour qu'il affiche le rang à partir du quel la suite $u_n$ dépasse 130"
   ]
  },
  {
   "cell_type": "code",
   "execution_count": 64,
   "id": "e7646b3a",
   "metadata": {},
   "outputs": [
    {
     "name": "stdout",
     "output_type": "stream",
     "text": [
      "u(64)=132\n"
     ]
    }
   ],
   "source": [
    "valeur_max = 130\n",
    "\n",
    "def u(n):\n",
    "    return 2*n + 4\n",
    "\n",
    "i = 0\n",
    "while u(i) <= valeur_max:\n",
    "    i += 1\n",
    "print(f\"u({i})={u(i)}\")"
   ]
  },
  {
   "cell_type": "markdown",
   "id": "9021a94e",
   "metadata": {},
   "source": [
    "# Suites dichotomiques\n",
    "\n",
    "On veut résoudre une equaton du type $f(x) = 0$\n",
    "\n",
    "On connait au départ un intervalle $[~a~;~b~]$ où $f$ change de signe\n",
    "\n",
    "On va construire par récurrence deux suites $(a_n)$ et $(b_n)$ de la façon suivantes\n",
    "\n",
    "* $a_0 = a$ et $b_0 = b$\n",
    "* On pose $m$ la moyenne de $a_n$ et $b_n$\n",
    "* Si $f(a)$ et $f(m)$ sont de même signe :\n",
    "    * $a_{n+1} = m$ et $b_{n+1} = b_n$\n",
    "* Sinon\n",
    "    * $a_{n+1} = a_n$ et $b_{n+1} = m$"
   ]
  },
  {
   "cell_type": "code",
   "execution_count": 18,
   "id": "bbfc3106",
   "metadata": {},
   "outputs": [
    {
     "name": "stdout",
     "output_type": "stream",
     "text": [
      "0 -1 0.0 -1 2.0\n",
      "1 -1 -0.5 -1 0.5\n",
      "2 -0.75 -0.5 -0.25 0.5\n",
      "3 -0.75 -0.625 -0.25 0.125\n",
      "4 -0.6875 -0.625 -0.0625 0.125\n",
      "5 -0.6875 -0.65625 -0.0625 0.03125\n",
      "6 -0.671875 -0.65625 -0.015625 0.03125\n",
      "7 -0.671875 -0.6640625 -0.015625 0.0078125\n",
      "8 -0.66796875 -0.6640625 -0.00390625 0.0078125\n",
      "9 -0.66796875 -0.666015625 -0.00390625 0.001953125\n"
     ]
    }
   ],
   "source": [
    "def f(x):\n",
    "    return 3*x + 2\n",
    "\n",
    "a, b = -1, 1\n",
    "for i in range(10):\n",
    "    m = (a+b) / 2\n",
    "    if f(m) * f(a) > 0:  # de même signe\n",
    "        a = m\n",
    "    else:\n",
    "        b = m\n",
    "    print(i, a, b, f(a), f(b))"
   ]
  },
  {
   "cell_type": "markdown",
   "id": "4ab18c4c",
   "metadata": {},
   "source": [
    "### À vous \n",
    "* Modifier le code pour que l'intervalle obtenu soit de largeur plus petite que $10^{-7}$"
   ]
  },
  {
   "cell_type": "code",
   "execution_count": 19,
   "id": "0be61dde",
   "metadata": {},
   "outputs": [
    {
     "name": "stdout",
     "output_type": "stream",
     "text": [
      "0 -0.6666665 -0.666667 4.999999998478444e-07 -1.000000000139778e-06\n",
      "1 -0.6666665 -0.6666667500000001 4.999999998478444e-07 -2.500000002569891e-07\n",
      "2 -0.6666666250000001 -0.6666667500000001 1.2499999968440534e-07 -2.500000002569891e-07\n",
      "3 -0.6666666250000001 -0.6666666875 1.2499999968440534e-07 -6.249999984220267e-08\n",
      "4 -0.6666666562500001 -0.6666666875 3.124999969905673e-08 -6.249999984220267e-08\n",
      "5 -0.6666666562500001 -0.6666666718750001 3.124999969905673e-08 -1.5624999960550667e-08\n",
      "6 -0.6666666640625001 -0.6666666718750001 7.812499758230729e-09 -1.5624999960550667e-08\n",
      "7 -0.6666666640625001 -0.6666666679687501 7.812499758230729e-09 -3.906250434226877e-09\n",
      "8 -0.6666666660156251 -0.6666666679687501 1.9531247730242285e-09 -3.906250434226877e-09\n",
      "9 -0.6666666660156251 -0.6666666669921876 1.9531247730242285e-09 -9.76562830601324e-10\n"
     ]
    }
   ],
   "source": [
    "def f(x):\n",
    "    return 3*x + 2\n",
    "\n",
    "a, b = -0.6666660, -0.6666670\n",
    "for i in range(10):\n",
    "    m = (a+b) / 2\n",
    "    if f(m) * f(a) > 0:  # de même signe\n",
    "        a = m\n",
    "    else:\n",
    "        b = m\n",
    "    print(i, a, b, f(a), f(b))"
   ]
  },
  {
   "cell_type": "markdown",
   "id": "797e5e71",
   "metadata": {},
   "source": [
    "* Comment obtenir par dichotomie une valeur approchée de $\\sqrt{2}$ ?"
   ]
  },
  {
   "cell_type": "code",
   "execution_count": 20,
   "id": "8f0c743b",
   "metadata": {},
   "outputs": [
    {
     "name": "stdout",
     "output_type": "stream",
     "text": [
      "0 1.4142135 1.414214 -1.7641774996413062e-07 1.2377960003639998e-06\n",
      "1 1.4142135 1.41421375 -1.7641774996413062e-07 5.306890624723337e-07\n",
      "2 1.4142135 1.414213625 -1.7641774996413062e-07 1.771356403779123e-07\n",
      "3 1.4142135 1.4142135625 -1.7641774996413062e-07 3.5894176519946086e-10\n",
      "4 1.4142135312500002 1.4142135625 -8.80294048766217e-08 3.5894176519946086e-10\n",
      "5 1.4142135468750001 1.4142135625 -4.3835231888778026e-08 3.5894176519946086e-10\n",
      "6 1.4142135546875 1.4142135625 -2.1738145283833887e-08 3.5894176519946086e-10\n",
      "7 1.41421355859375 1.4142135625 -1.0689601870339516e-08 3.5894176519946086e-10\n",
      "8 1.414213560546875 1.4142135625 -5.16533016359233e-09 3.5894176519946086e-10\n",
      "9 1.4142135615234377 1.4142135625 -2.403193866129527e-09 3.5894176519946086e-10\n"
     ]
    }
   ],
   "source": [
    "def f(x):\n",
    "    return x**2 - 2\n",
    "\n",
    "a, b = 1.414213, 1.414214\n",
    "for i in range(10):\n",
    "    m = (a+b) / 2\n",
    "    if f(m) * f(a) > 0:  # de même signe\n",
    "        a = m\n",
    "    else:\n",
    "        b = m\n",
    "    print(i, a, b, f(a), f(b))"
   ]
  },
  {
   "cell_type": "markdown",
   "id": "803ed1bc",
   "metadata": {},
   "source": [
    "* Calculer les 10 premiers de la suite $(u_n)$ définie par $u_0=1$ et $u_{n+1}=\\dfrac{u_n+\\dfrac 2{u_n}}2$. Qu'obtient-on ?"
   ]
  },
  {
   "cell_type": "code",
   "execution_count": 22,
   "id": "bcab568e",
   "metadata": {},
   "outputs": [
    {
     "name": "stdout",
     "output_type": "stream",
     "text": [
      "u(0) = 1\n",
      "u(1) = 1.5\n",
      "u(2) = 1.4166666666666665\n",
      "u(3) = 1.4142156862745097\n",
      "u(4) = 1.4142135623746899\n",
      "u(5) = 1.414213562373095\n",
      "u(6) = 1.414213562373095\n",
      "u(7) = 1.414213562373095\n",
      "u(8) = 1.414213562373095\n",
      "u(9) = 1.414213562373095\n"
     ]
    }
   ],
   "source": [
    "def u(n):\n",
    "    if n == 0:\n",
    "        return 1\n",
    "    else:\n",
    "        return (u(n-1) + 2/u(n-1)) / 2\n",
    "\n",
    "for i in range(10):\n",
    "    print(f\"u({i}) = {u(i)}\")"
   ]
  },
  {
   "cell_type": "markdown",
   "id": "7c422b59",
   "metadata": {},
   "source": [
    "On obtient une approximation de $\\sqrt{2}$."
   ]
  },
  {
   "cell_type": "markdown",
   "id": "bdc74aa8",
   "metadata": {},
   "source": [
    "* Calculer les 10 premiers de la suite $(v_n)$ définie par $v_0=1$ et $u_{n+1}=\\dfrac{u_n+\\dfrac 3{u_n}}2$. Qu'obtient-on ?"
   ]
  },
  {
   "cell_type": "code",
   "execution_count": 24,
   "id": "7fbed654",
   "metadata": {},
   "outputs": [
    {
     "name": "stdout",
     "output_type": "stream",
     "text": [
      "v(0) = 1\n",
      "v(1) = 2.0\n",
      "v(2) = 1.75\n",
      "v(3) = 1.7321428571428572\n",
      "v(4) = 1.7320508100147274\n",
      "v(5) = 1.7320508075688772\n",
      "v(6) = 1.7320508075688772\n",
      "v(7) = 1.7320508075688772\n",
      "v(8) = 1.7320508075688772\n",
      "v(9) = 1.7320508075688772\n"
     ]
    }
   ],
   "source": [
    "def v(n):\n",
    "    if n == 0:\n",
    "        return 1\n",
    "    else:\n",
    "        return (v(n-1) + 3/v(n-1)) / 2\n",
    "\n",
    "for i in range(10):\n",
    "    print(f\"v({i}) = {v(i)}\")"
   ]
  },
  {
   "cell_type": "markdown",
   "id": "3fe7e80b",
   "metadata": {},
   "source": [
    "On obtient une approximation de $\\sqrt{3}$."
   ]
  },
  {
   "cell_type": "markdown",
   "id": "100f8153",
   "metadata": {},
   "source": [
    "## Une suite bizare\n",
    "\n",
    "Calculer la suite $u_n = \\displaystyle{\\sum_{k=0}^n}\\dfrac 1{k^2}$. Une piste : calculer $\\sqrt{6u_n}$"
   ]
  },
  {
   "cell_type": "code",
   "execution_count": 1,
   "id": "27707117",
   "metadata": {},
   "outputs": [
    {
     "name": "stdout",
     "output_type": "stream",
     "text": [
      "u(0) = 0\n",
      "u(1) = 0\n",
      "u(2) = 1.0\n",
      "u(3) = 1.25\n",
      "u(4) = 1.3611111111111112\n",
      "u(5) = 1.4236111111111112\n",
      "u(6) = 1.4636111111111112\n",
      "u(7) = 1.4913888888888889\n",
      "u(8) = 1.511797052154195\n",
      "u(9) = 1.527422052154195\n",
      "1.6449340668482264\n",
      "1.6449240667982423\n",
      "3.141583104230963\n"
     ]
    }
   ],
   "source": [
    "def u(n):\n",
    "    return sum([1/(k**2) for k in range(n) if k != 0])\n",
    "\n",
    "for i in range(10):\n",
    "    print(f\"u({i}) = {u(i)}\")\n",
    "\n",
    "import math\n",
    "print((math.pi**2)/6)  # je connaissais déjà cette propriété\n",
    "u100000 = u(100000)\n",
    "print(u100000)\n",
    "print(math.sqrt(6*u100000))"
   ]
  },
  {
   "cell_type": "markdown",
   "id": "c4f6a6e9",
   "metadata": {},
   "source": [
    "## Une suite extrêmement bizarre\n",
    "\n",
    "Calculer la suite $u_n = {\\dfrac {2{\\sqrt {2}}}{9801}}\\displaystyle \\sum _{k=0}^{n}{\\frac {(4k)!}{(k!)^{4}}}\\times {\\frac {1103+26390k}{(4\\times 99)^{4k}}}$ Une piste : calculer $\\dfrac 1{u_n}$"
   ]
  },
  {
   "cell_type": "code",
   "execution_count": 57,
   "id": "f77c184e",
   "metadata": {},
   "outputs": [
    {
     "name": "stdout",
     "output_type": "stream",
     "text": [
      "u(0) = 0.0\n",
      "u(1) = 0.0\n",
      "u(2) = 0.4808535117977882, 1/u(2) = 2.079635430468743\n",
      "u(3) = 0.7307364137174525, 1/u(3) = 1.3684825078207494\n",
      "u(4) = 0.868612993947163, 1/u(4) = 1.1512606960388498\n",
      "u(5) = 0.9475502965744607, 1/u(5) = 1.0553529491945208\n",
      "u(6) = 0.9938121447061687, 1/u(6) = 1.006226383252401\n",
      "u(7) = 1.021359799393619, 1/u(7) = 0.9790869002223308\n",
      "u(8) = 1.0379537509288221, 1/u(8) = 0.9634340635169353\n",
      "u(9) = 1.048036877520082, 1/u(9) = 0.9541648976763593\n",
      "u(119) = 1.0642179827470652, 1/u(119) = 0.9396571155645205\n"
     ]
    }
   ],
   "source": [
    "def u(n):\n",
    "    return (2*math.sqrt(2)/9801) * sum(\n",
    "        [\n",
    "            (math.factorial(4*k)/(math.factorial(k)**4)) * (1103 + 26390*k)/((4*99)**k)\n",
    "            for k in range(n) if k != 0\n",
    "        ]\n",
    "    )\n",
    "\n",
    "for i in range(10):\n",
    "    if u(i) != 0:\n",
    "        print(f\"u({i}) = {u(i)}, 1/u({i}) = {1/u(i)}\")\n",
    "    else:\n",
    "        print(f\"u({i}) = {u(i)}\")\n",
    "    \n",
    "\n",
    "print(f\"u(119) = {u(119)}, 1/u(119) = {1/u(119)}\")  # valeur max avant OverflowError\n",
    "\n",
    "# print(u(120))  # OverflowError"
   ]
  },
  {
   "cell_type": "code",
   "execution_count": null,
   "id": "93a7c5a8",
   "metadata": {},
   "outputs": [],
   "source": []
  }
 ],
 "metadata": {
  "kernelspec": {
   "display_name": "Python 3 (ipykernel)",
   "language": "python",
   "name": "python3"
  },
  "language_info": {
   "codemirror_mode": {
    "name": "ipython",
    "version": 3
   },
   "file_extension": ".py",
   "mimetype": "text/x-python",
   "name": "python",
   "nbconvert_exporter": "python",
   "pygments_lexer": "ipython3",
   "version": "3.10.7"
  }
 },
 "nbformat": 4,
 "nbformat_minor": 5
}
